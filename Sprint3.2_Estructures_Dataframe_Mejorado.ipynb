{
 "cells": [
  {
   "cell_type": "markdown",
   "id": "6da49e81",
   "metadata": {},
   "source": [
    "### Exercici 1\n",
    "- Descarrega el data set Airlines Delay: Airline on-time statistics and delay causes i carrega’l a un Pandas Dataframe. Explora les dades que conté, explica breument quines variables hi ha i queda’t únicament amb les columnes que consideris rellevants. Justifica la teva elecció"
   ]
  },
  {
   "cell_type": "code",
   "execution_count": 7,
   "id": "191640d1",
   "metadata": {},
   "outputs": [],
   "source": [
    "import pandas as pd\n",
    "import numpy as np"
   ]
  },
  {
   "cell_type": "code",
   "execution_count": 60,
   "id": "a00194e6",
   "metadata": {},
   "outputs": [
    {
     "data": {
      "text/html": [
       "<div>\n",
       "<style scoped>\n",
       "    .dataframe tbody tr th:only-of-type {\n",
       "        vertical-align: middle;\n",
       "    }\n",
       "\n",
       "    .dataframe tbody tr th {\n",
       "        vertical-align: top;\n",
       "    }\n",
       "\n",
       "    .dataframe thead th {\n",
       "        text-align: right;\n",
       "    }\n",
       "</style>\n",
       "<table border=\"1\" class=\"dataframe\">\n",
       "  <thead>\n",
       "    <tr style=\"text-align: right;\">\n",
       "      <th></th>\n",
       "      <th>Unnamed: 0</th>\n",
       "      <th>Year</th>\n",
       "      <th>Month</th>\n",
       "      <th>DayofMonth</th>\n",
       "      <th>DayOfWeek</th>\n",
       "      <th>DepTime</th>\n",
       "      <th>CRSDepTime</th>\n",
       "      <th>ArrTime</th>\n",
       "      <th>CRSArrTime</th>\n",
       "      <th>UniqueCarrier</th>\n",
       "      <th>...</th>\n",
       "      <th>TaxiIn</th>\n",
       "      <th>TaxiOut</th>\n",
       "      <th>Cancelled</th>\n",
       "      <th>CancellationCode</th>\n",
       "      <th>Diverted</th>\n",
       "      <th>CarrierDelay</th>\n",
       "      <th>WeatherDelay</th>\n",
       "      <th>NASDelay</th>\n",
       "      <th>SecurityDelay</th>\n",
       "      <th>LateAircraftDelay</th>\n",
       "    </tr>\n",
       "  </thead>\n",
       "  <tbody>\n",
       "    <tr>\n",
       "      <th>0</th>\n",
       "      <td>0</td>\n",
       "      <td>2008</td>\n",
       "      <td>1</td>\n",
       "      <td>3</td>\n",
       "      <td>4</td>\n",
       "      <td>2003.0</td>\n",
       "      <td>1955</td>\n",
       "      <td>2211.0</td>\n",
       "      <td>2225</td>\n",
       "      <td>WN</td>\n",
       "      <td>...</td>\n",
       "      <td>4.0</td>\n",
       "      <td>8.0</td>\n",
       "      <td>0</td>\n",
       "      <td>N</td>\n",
       "      <td>0</td>\n",
       "      <td>NaN</td>\n",
       "      <td>NaN</td>\n",
       "      <td>NaN</td>\n",
       "      <td>NaN</td>\n",
       "      <td>NaN</td>\n",
       "    </tr>\n",
       "    <tr>\n",
       "      <th>1</th>\n",
       "      <td>1</td>\n",
       "      <td>2008</td>\n",
       "      <td>1</td>\n",
       "      <td>3</td>\n",
       "      <td>4</td>\n",
       "      <td>754.0</td>\n",
       "      <td>735</td>\n",
       "      <td>1002.0</td>\n",
       "      <td>1000</td>\n",
       "      <td>WN</td>\n",
       "      <td>...</td>\n",
       "      <td>5.0</td>\n",
       "      <td>10.0</td>\n",
       "      <td>0</td>\n",
       "      <td>N</td>\n",
       "      <td>0</td>\n",
       "      <td>NaN</td>\n",
       "      <td>NaN</td>\n",
       "      <td>NaN</td>\n",
       "      <td>NaN</td>\n",
       "      <td>NaN</td>\n",
       "    </tr>\n",
       "    <tr>\n",
       "      <th>2</th>\n",
       "      <td>2</td>\n",
       "      <td>2008</td>\n",
       "      <td>1</td>\n",
       "      <td>3</td>\n",
       "      <td>4</td>\n",
       "      <td>628.0</td>\n",
       "      <td>620</td>\n",
       "      <td>804.0</td>\n",
       "      <td>750</td>\n",
       "      <td>WN</td>\n",
       "      <td>...</td>\n",
       "      <td>3.0</td>\n",
       "      <td>17.0</td>\n",
       "      <td>0</td>\n",
       "      <td>N</td>\n",
       "      <td>0</td>\n",
       "      <td>NaN</td>\n",
       "      <td>NaN</td>\n",
       "      <td>NaN</td>\n",
       "      <td>NaN</td>\n",
       "      <td>NaN</td>\n",
       "    </tr>\n",
       "    <tr>\n",
       "      <th>3</th>\n",
       "      <td>4</td>\n",
       "      <td>2008</td>\n",
       "      <td>1</td>\n",
       "      <td>3</td>\n",
       "      <td>4</td>\n",
       "      <td>1829.0</td>\n",
       "      <td>1755</td>\n",
       "      <td>1959.0</td>\n",
       "      <td>1925</td>\n",
       "      <td>WN</td>\n",
       "      <td>...</td>\n",
       "      <td>3.0</td>\n",
       "      <td>10.0</td>\n",
       "      <td>0</td>\n",
       "      <td>N</td>\n",
       "      <td>0</td>\n",
       "      <td>2.0</td>\n",
       "      <td>0.0</td>\n",
       "      <td>0.0</td>\n",
       "      <td>0.0</td>\n",
       "      <td>32.0</td>\n",
       "    </tr>\n",
       "    <tr>\n",
       "      <th>4</th>\n",
       "      <td>5</td>\n",
       "      <td>2008</td>\n",
       "      <td>1</td>\n",
       "      <td>3</td>\n",
       "      <td>4</td>\n",
       "      <td>1940.0</td>\n",
       "      <td>1915</td>\n",
       "      <td>2121.0</td>\n",
       "      <td>2110</td>\n",
       "      <td>WN</td>\n",
       "      <td>...</td>\n",
       "      <td>4.0</td>\n",
       "      <td>10.0</td>\n",
       "      <td>0</td>\n",
       "      <td>N</td>\n",
       "      <td>0</td>\n",
       "      <td>NaN</td>\n",
       "      <td>NaN</td>\n",
       "      <td>NaN</td>\n",
       "      <td>NaN</td>\n",
       "      <td>NaN</td>\n",
       "    </tr>\n",
       "  </tbody>\n",
       "</table>\n",
       "<p>5 rows × 30 columns</p>\n",
       "</div>"
      ],
      "text/plain": [
       "   Unnamed: 0  Year  Month  DayofMonth  DayOfWeek  DepTime  CRSDepTime  \\\n",
       "0           0  2008      1           3          4   2003.0        1955   \n",
       "1           1  2008      1           3          4    754.0         735   \n",
       "2           2  2008      1           3          4    628.0         620   \n",
       "3           4  2008      1           3          4   1829.0        1755   \n",
       "4           5  2008      1           3          4   1940.0        1915   \n",
       "\n",
       "   ArrTime  CRSArrTime UniqueCarrier  ...  TaxiIn TaxiOut  Cancelled  \\\n",
       "0   2211.0        2225            WN  ...     4.0     8.0          0   \n",
       "1   1002.0        1000            WN  ...     5.0    10.0          0   \n",
       "2    804.0         750            WN  ...     3.0    17.0          0   \n",
       "3   1959.0        1925            WN  ...     3.0    10.0          0   \n",
       "4   2121.0        2110            WN  ...     4.0    10.0          0   \n",
       "\n",
       "   CancellationCode  Diverted  CarrierDelay  WeatherDelay NASDelay  \\\n",
       "0                 N         0           NaN           NaN      NaN   \n",
       "1                 N         0           NaN           NaN      NaN   \n",
       "2                 N         0           NaN           NaN      NaN   \n",
       "3                 N         0           2.0           0.0      0.0   \n",
       "4                 N         0           NaN           NaN      NaN   \n",
       "\n",
       "  SecurityDelay  LateAircraftDelay  \n",
       "0           NaN                NaN  \n",
       "1           NaN                NaN  \n",
       "2           NaN                NaN  \n",
       "3           0.0               32.0  \n",
       "4           NaN                NaN  \n",
       "\n",
       "[5 rows x 30 columns]"
      ]
     },
     "execution_count": 60,
     "metadata": {},
     "output_type": "execute_result"
    }
   ],
   "source": [
    "avions=pd.read_csv('DelayedFlights.csv')\n",
    "avions.drop_duplicates(inplace = True)\n",
    "\n",
    "avions.head()"
   ]
  },
  {
   "cell_type": "code",
   "execution_count": 4,
   "id": "dfd4d388",
   "metadata": {},
   "outputs": [
    {
     "data": {
      "text/plain": [
       "Unnamed: 0                0\n",
       "Year                      0\n",
       "Month                     0\n",
       "DayofMonth                0\n",
       "DayOfWeek                 0\n",
       "DepTime                   0\n",
       "CRSDepTime                0\n",
       "ArrTime                7110\n",
       "CRSArrTime                0\n",
       "UniqueCarrier             0\n",
       "FlightNum                 0\n",
       "TailNum                   5\n",
       "ActualElapsedTime      8387\n",
       "CRSElapsedTime          198\n",
       "AirTime                8387\n",
       "ArrDelay               8387\n",
       "DepDelay                  0\n",
       "Origin                    0\n",
       "Dest                      0\n",
       "Distance                  0\n",
       "TaxiIn                 7110\n",
       "TaxiOut                 455\n",
       "Cancelled                 0\n",
       "CancellationCode          0\n",
       "Diverted                  0\n",
       "CarrierDelay         689270\n",
       "WeatherDelay         689270\n",
       "NASDelay             689270\n",
       "SecurityDelay        689270\n",
       "LateAircraftDelay    689270\n",
       "dtype: int64"
      ]
     },
     "execution_count": 4,
     "metadata": {},
     "output_type": "execute_result"
    }
   ],
   "source": [
    "#Para saber los nulos segun columnas, lo mismo que utilizar df.isna().sum()\n",
    "avions.isnull().sum()\n"
   ]
  },
  {
   "cell_type": "markdown",
   "id": "622b149b",
   "metadata": {},
   "source": [
    "Aquí vemos que las columnas de 'CarrierDelay', 'WeatherDelay', 'NasDelay', SecurityDelay, LateAircraftDelay, contienen el mismo número de valores nulos. Por lo que seran susceptibles de ser examinadas con detenimiento.\n",
    "\n",
    "Según nos indican los datos del dataframe, los vuelos de -15min no se consideran vuelos retrasados, por lo tanto vamos a comprobar cuantos vuelos llegaron tarde -15minutos."
   ]
  },
  {
   "cell_type": "code",
   "execution_count": 35,
   "id": "3c59165c",
   "metadata": {},
   "outputs": [
    {
     "data": {
      "text/plain": [
       "70735"
      ]
     },
     "execution_count": 35,
     "metadata": {},
     "output_type": "execute_result"
    }
   ],
   "source": [
    "avions[avions['ArrDelay'] < 15].shape[0]"
   ]
  },
  {
   "cell_type": "markdown",
   "id": "ce504f9e",
   "metadata": {},
   "source": [
    "Siguen sin salir los mismos números, por lo que pasaremos a comprovar el número de vuelos desviados a otro lugar así como el número de vuelos cancelados."
   ]
  },
  {
   "cell_type": "code",
   "execution_count": 11,
   "id": "1259201c",
   "metadata": {},
   "outputs": [
    {
     "data": {
      "text/plain": [
       "Diverted\n",
       "0    1929004\n",
       "1       7754\n",
       "Name: count, dtype: int64"
      ]
     },
     "execution_count": 11,
     "metadata": {},
     "output_type": "execute_result"
    }
   ],
   "source": [
    "avions['Diverted'].value_counts() #Contar los vuelos desviados"
   ]
  },
  {
   "cell_type": "code",
   "execution_count": 12,
   "id": "14b803b2",
   "metadata": {},
   "outputs": [
    {
     "data": {
      "text/plain": [
       "Cancelled\n",
       "0    1936125\n",
       "1        633\n",
       "Name: count, dtype: int64"
      ]
     },
     "execution_count": 12,
     "metadata": {},
     "output_type": "execute_result"
    }
   ],
   "source": [
    "avions['Cancelled'].value_counts() #Contar los vuelos cancelados"
   ]
  },
  {
   "cell_type": "code",
   "execution_count": 21,
   "id": "74315069",
   "metadata": {},
   "outputs": [
    {
     "data": {
      "text/plain": [
       "689270"
      ]
     },
     "execution_count": 21,
     "metadata": {},
     "output_type": "execute_result"
    }
   ],
   "source": [
    "total = avions[avions['ArrDelay'] < 15].shape[0] + avions['Diverted'].sum() + avions['Cancelled'].sum()\n",
    "total"
   ]
  },
  {
   "cell_type": "markdown",
   "id": "536fe09c",
   "metadata": {},
   "source": [
    "Todos aquellos valores nulos que aparecen en las últimas columnas son los mismos vuelos que fueron desviados, cancelados o no son considerados retrasados, porque el retraso no superó los 15min.\n",
    "Por lo que estos calores los cambiaremos de nulos a 0."
   ]
  },
  {
   "cell_type": "code",
   "execution_count": 61,
   "id": "120cee55",
   "metadata": {},
   "outputs": [],
   "source": [
    "avions[['CarrierDelay','WeatherDelay', 'NASDelay', 'SecurityDelay', 'LateAircraftDelay']] = avions[['CarrierDelay', 'WeatherDelay', 'NASDelay', 'SecurityDelay', 'LateAircraftDelay']].fillna(0)\n"
   ]
  },
  {
   "cell_type": "code",
   "execution_count": 62,
   "id": "699efa2d",
   "metadata": {},
   "outputs": [
    {
     "data": {
      "text/plain": [
       "Unnamed: 0              0\n",
       "Year                    0\n",
       "Month                   0\n",
       "DayofMonth              0\n",
       "DayOfWeek               0\n",
       "DepTime                 0\n",
       "CRSDepTime              0\n",
       "ArrTime              7110\n",
       "CRSArrTime              0\n",
       "UniqueCarrier           0\n",
       "FlightNum               0\n",
       "TailNum                 5\n",
       "ActualElapsedTime    8387\n",
       "CRSElapsedTime        198\n",
       "AirTime              8387\n",
       "ArrDelay             8387\n",
       "DepDelay                0\n",
       "Origin                  0\n",
       "Dest                    0\n",
       "Distance                0\n",
       "TaxiIn               7110\n",
       "TaxiOut               455\n",
       "Cancelled               0\n",
       "CancellationCode        0\n",
       "Diverted                0\n",
       "CarrierDelay            0\n",
       "WeatherDelay            0\n",
       "NASDelay                0\n",
       "SecurityDelay           0\n",
       "LateAircraftDelay       0\n",
       "dtype: int64"
      ]
     },
     "execution_count": 62,
     "metadata": {},
     "output_type": "execute_result"
    }
   ],
   "source": [
    "#Buscamos los valores nulos\n",
    "avions.isnull().sum()"
   ]
  },
  {
   "cell_type": "code",
   "execution_count": 63,
   "id": "848a1734",
   "metadata": {},
   "outputs": [
    {
     "data": {
      "text/plain": [
       "(1936758, 30)"
      ]
     },
     "execution_count": 63,
     "metadata": {},
     "output_type": "execute_result"
    }
   ],
   "source": [
    "avions.shape"
   ]
  },
  {
   "cell_type": "markdown",
   "id": "0458c952",
   "metadata": {},
   "source": [
    "Teniendo en cuenta el número de registros del dataset, y pensando que se realizarà una selección aleatoria a posteriori para poder trabajar mejor.\n",
    "Se considera que se pueden eliminar los datos nulos que aparecen."
   ]
  },
  {
   "cell_type": "code",
   "execution_count": 64,
   "id": "7a6d61c5",
   "metadata": {},
   "outputs": [],
   "source": [
    "avions=avions.dropna()"
   ]
  },
  {
   "cell_type": "code",
   "execution_count": 65,
   "id": "f8315662",
   "metadata": {},
   "outputs": [
    {
     "data": {
      "text/plain": [
       "Unnamed: 0           0\n",
       "Year                 0\n",
       "Month                0\n",
       "DayofMonth           0\n",
       "DayOfWeek            0\n",
       "DepTime              0\n",
       "CRSDepTime           0\n",
       "ArrTime              0\n",
       "CRSArrTime           0\n",
       "UniqueCarrier        0\n",
       "FlightNum            0\n",
       "TailNum              0\n",
       "ActualElapsedTime    0\n",
       "CRSElapsedTime       0\n",
       "AirTime              0\n",
       "ArrDelay             0\n",
       "DepDelay             0\n",
       "Origin               0\n",
       "Dest                 0\n",
       "Distance             0\n",
       "TaxiIn               0\n",
       "TaxiOut              0\n",
       "Cancelled            0\n",
       "CancellationCode     0\n",
       "Diverted             0\n",
       "CarrierDelay         0\n",
       "WeatherDelay         0\n",
       "NASDelay             0\n",
       "SecurityDelay        0\n",
       "LateAircraftDelay    0\n",
       "dtype: int64"
      ]
     },
     "execution_count": 65,
     "metadata": {},
     "output_type": "execute_result"
    }
   ],
   "source": [
    "#Buscamos los valores nulos\n",
    "avions.isnull().sum()"
   ]
  },
  {
   "cell_type": "markdown",
   "id": "72557ff2",
   "metadata": {},
   "source": [
    "Aquí ya vemos como no tenemos valores nulos. "
   ]
  },
  {
   "cell_type": "code",
   "execution_count": 66,
   "id": "b9e458b8",
   "metadata": {},
   "outputs": [
    {
     "name": "stdout",
     "output_type": "stream",
     "text": [
      "<class 'pandas.core.frame.DataFrame'>\n",
      "Index: 200000 entries, 1779631 to 1816289\n",
      "Data columns (total 30 columns):\n",
      " #   Column             Non-Null Count   Dtype  \n",
      "---  ------             --------------   -----  \n",
      " 0   Unnamed: 0         200000 non-null  int64  \n",
      " 1   Year               200000 non-null  int64  \n",
      " 2   Month              200000 non-null  int64  \n",
      " 3   DayofMonth         200000 non-null  int64  \n",
      " 4   DayOfWeek          200000 non-null  int64  \n",
      " 5   DepTime            200000 non-null  float64\n",
      " 6   CRSDepTime         200000 non-null  int64  \n",
      " 7   ArrTime            200000 non-null  float64\n",
      " 8   CRSArrTime         200000 non-null  int64  \n",
      " 9   UniqueCarrier      200000 non-null  object \n",
      " 10  FlightNum          200000 non-null  int64  \n",
      " 11  TailNum            200000 non-null  object \n",
      " 12  ActualElapsedTime  200000 non-null  float64\n",
      " 13  CRSElapsedTime     200000 non-null  float64\n",
      " 14  AirTime            200000 non-null  float64\n",
      " 15  ArrDelay           200000 non-null  float64\n",
      " 16  DepDelay           200000 non-null  float64\n",
      " 17  Origin             200000 non-null  object \n",
      " 18  Dest               200000 non-null  object \n",
      " 19  Distance           200000 non-null  int64  \n",
      " 20  TaxiIn             200000 non-null  float64\n",
      " 21  TaxiOut            200000 non-null  float64\n",
      " 22  Cancelled          200000 non-null  int64  \n",
      " 23  CancellationCode   200000 non-null  object \n",
      " 24  Diverted           200000 non-null  int64  \n",
      " 25  CarrierDelay       200000 non-null  float64\n",
      " 26  WeatherDelay       200000 non-null  float64\n",
      " 27  NASDelay           200000 non-null  float64\n",
      " 28  SecurityDelay      200000 non-null  float64\n",
      " 29  LateAircraftDelay  200000 non-null  float64\n",
      "dtypes: float64(14), int64(11), object(5)\n",
      "memory usage: 47.3+ MB\n"
     ]
    }
   ],
   "source": [
    "#aleatoriament se recogen 200.000 registros\n",
    "avions=avions.sample(n=200000)\n",
    "avions.info()"
   ]
  },
  {
   "cell_type": "markdown",
   "id": "5529e9bc",
   "metadata": {},
   "source": [
    "- index: es igual que unnamed. \n",
    "    - se puede eliminar\n",
    "- _unnamed: es un número de vol \n",
    "    - se puede eliminar\n",
    "- _year: año, tots els vols son del 2008 \n",
    "    - datos de tiempo. se puede eliminar\n",
    "- _month:mes \n",
    "    - datos de tiempo. se puede eliminar\n",
    "- _dayofmonth: dia del mes \n",
    "    - datos de tiempo. se puede eliminar\n",
    "- _DepTime: Departure Time o Hora de salida del avión \n",
    "    - datos de tiempo. se puede eliminar\n",
    "- CRSDepTime: Scheduled Departure Time o Hora de Llegada Programada\n",
    "    - datos de tiempo. se puede eliminar\n",
    "- ArrTime: Arrival Time o Hora de llegada del avión\n",
    "- CRSArrTime: Scheduled Arrival Time o Hora de Llegada Programada\n",
    "- UniqueCarrier: Código de identificación único de una aerolínea para registrar e identificar aerolíneas.\n",
    "- FlightNum: Número de vuelo\n",
    "- TailNum: Número de\n",
    "- ActualElapsedTime: ActualElapsedTime. Tiempo real que ha transcurrido desde el despegue hasta el aterrizaje de un vuelo específico. \n",
    "- CRSElapsedTime: Scheduled Elapsed Time. Tiempo estimado de vuelo antes de que despegue sin retrasos.\n",
    "- AirTime: Tiempo en el aire. Tiempo de vuelo \n",
    "- ArrDelay: Arrival Delay. Tiempo que el vuelo ha llegado con retraso.\n",
    "- TaxiIn: Rodaje de Llegada. Tiempo que una aeronave pasa rodando en la pista después de aterrizar y antes de llegar a la puerta de llegada en el aeropuerto de destino. \n",
    "    - se puede eliminar no interesa para nuestros datos \n",
    "- _TaxiOut: Rodaje de Salida. Tiempo que una aeronave pasa rodando en la pista antes de despegar.\n",
    "    - se puede eliminar no interesa para nuestros datos \n",
    "- Cancelled: Cancelado. Indica si un vuelo ha sido cancelado o no.\n",
    "- CancellationCode: Código de Cancelación Proporciona una razón específica para la cancelación de un vuelo.\n",
    "    - dara Nan\n",
    "- Diverted:Desviado. Indica si un vuelo ha sido desviado a un aeropuerto diferente al de destino originalmente planeado. Puede tener un valor binario, 1 para indicar que el vuelo fue desviado y 0 para indicar que no fue desviado\n",
    "- CarrierDelay: El retraso atribuido a la aerolínea, como problemas logísticos o de programación. \n",
    "    - Se puede eliminar hay muchos valores Nan\n",
    "- WeatherDelay: El retraso causado por condiciones climáticas adversas.\n",
    "    - Se puede eliminar hay muchos valores Nan\n",
    "- NASDelay: National Airspace System Delay o Sistema espacio aéreo nacional. Retraso relacionado con la congestión o problemas en el sistema de espacio aéreo nacional.\n",
    "    - Se puede eliminar hay muchos valores Nan\n",
    "- SecurityDelay:  Retraso causado por cuestiones de seguridad.\n",
    "    - Se puede eliminar hay muchos valores Nan\n",
    "- LateAircraftDelay: Retraso causado por la llegada tardía de la aeronave previa.\n",
    " \n",
    "En aquest cas, les dades en relació a la data de l'avió o la hora concreta no ens interessen i seran complicades de treballar en relació amb les altres pel que no es tindran en compte. Tampoc interessa el temps que l'avió està a pista, el motiu pel qual s'ha retrassat o si no ha arribat a enlairar.se.\n",
    "Amb tota la informació que tenim del dataset, agafarem un número reduit de columnes per poder treballar millor."
   ]
  },
  {
   "cell_type": "code",
   "execution_count": 67,
   "id": "764102a7",
   "metadata": {},
   "outputs": [
    {
     "data": {
      "text/html": [
       "<div>\n",
       "<style scoped>\n",
       "    .dataframe tbody tr th:only-of-type {\n",
       "        vertical-align: middle;\n",
       "    }\n",
       "\n",
       "    .dataframe tbody tr th {\n",
       "        vertical-align: top;\n",
       "    }\n",
       "\n",
       "    .dataframe thead th {\n",
       "        text-align: right;\n",
       "    }\n",
       "</style>\n",
       "<table border=\"1\" class=\"dataframe\">\n",
       "  <thead>\n",
       "    <tr style=\"text-align: right;\">\n",
       "      <th></th>\n",
       "      <th>UniqueCarrier</th>\n",
       "      <th>FlightNum</th>\n",
       "      <th>TailNum</th>\n",
       "      <th>AirTime</th>\n",
       "      <th>ArrDelay</th>\n",
       "      <th>DepDelay</th>\n",
       "      <th>Origin</th>\n",
       "      <th>Dest</th>\n",
       "      <th>Distance</th>\n",
       "    </tr>\n",
       "  </thead>\n",
       "  <tbody>\n",
       "    <tr>\n",
       "      <th>1779631</th>\n",
       "      <td>XE</td>\n",
       "      <td>2732</td>\n",
       "      <td>N12157</td>\n",
       "      <td>118.0</td>\n",
       "      <td>4.0</td>\n",
       "      <td>7.0</td>\n",
       "      <td>IAH</td>\n",
       "      <td>CLT</td>\n",
       "      <td>913</td>\n",
       "    </tr>\n",
       "    <tr>\n",
       "      <th>1687634</th>\n",
       "      <td>EV</td>\n",
       "      <td>5383</td>\n",
       "      <td>N752EV</td>\n",
       "      <td>113.0</td>\n",
       "      <td>82.0</td>\n",
       "      <td>82.0</td>\n",
       "      <td>ATL</td>\n",
       "      <td>OKC</td>\n",
       "      <td>761</td>\n",
       "    </tr>\n",
       "    <tr>\n",
       "      <th>437541</th>\n",
       "      <td>OO</td>\n",
       "      <td>3993</td>\n",
       "      <td>N426SW</td>\n",
       "      <td>72.0</td>\n",
       "      <td>39.0</td>\n",
       "      <td>44.0</td>\n",
       "      <td>DEN</td>\n",
       "      <td>SLC</td>\n",
       "      <td>391</td>\n",
       "    </tr>\n",
       "    <tr>\n",
       "      <th>1344899</th>\n",
       "      <td>WN</td>\n",
       "      <td>2012</td>\n",
       "      <td>N908WN</td>\n",
       "      <td>139.0</td>\n",
       "      <td>-4.0</td>\n",
       "      <td>7.0</td>\n",
       "      <td>BUF</td>\n",
       "      <td>TPA</td>\n",
       "      <td>1054</td>\n",
       "    </tr>\n",
       "    <tr>\n",
       "      <th>1398424</th>\n",
       "      <td>AA</td>\n",
       "      <td>1768</td>\n",
       "      <td>N237AA</td>\n",
       "      <td>92.0</td>\n",
       "      <td>6.0</td>\n",
       "      <td>28.0</td>\n",
       "      <td>ORD</td>\n",
       "      <td>PHL</td>\n",
       "      <td>678</td>\n",
       "    </tr>\n",
       "    <tr>\n",
       "      <th>...</th>\n",
       "      <td>...</td>\n",
       "      <td>...</td>\n",
       "      <td>...</td>\n",
       "      <td>...</td>\n",
       "      <td>...</td>\n",
       "      <td>...</td>\n",
       "      <td>...</td>\n",
       "      <td>...</td>\n",
       "      <td>...</td>\n",
       "    </tr>\n",
       "    <tr>\n",
       "      <th>1486901</th>\n",
       "      <td>FL</td>\n",
       "      <td>787</td>\n",
       "      <td>N935AT</td>\n",
       "      <td>128.0</td>\n",
       "      <td>79.0</td>\n",
       "      <td>31.0</td>\n",
       "      <td>ATL</td>\n",
       "      <td>PHL</td>\n",
       "      <td>665</td>\n",
       "    </tr>\n",
       "    <tr>\n",
       "      <th>128802</th>\n",
       "      <td>MQ</td>\n",
       "      <td>4561</td>\n",
       "      <td>N717AE</td>\n",
       "      <td>136.0</td>\n",
       "      <td>36.0</td>\n",
       "      <td>44.0</td>\n",
       "      <td>RDU</td>\n",
       "      <td>XNA</td>\n",
       "      <td>868</td>\n",
       "    </tr>\n",
       "    <tr>\n",
       "      <th>1073960</th>\n",
       "      <td>CO</td>\n",
       "      <td>648</td>\n",
       "      <td>N12216</td>\n",
       "      <td>348.0</td>\n",
       "      <td>51.0</td>\n",
       "      <td>74.0</td>\n",
       "      <td>EWR</td>\n",
       "      <td>SFO</td>\n",
       "      <td>2565</td>\n",
       "    </tr>\n",
       "    <tr>\n",
       "      <th>1808100</th>\n",
       "      <td>OO</td>\n",
       "      <td>6620</td>\n",
       "      <td>N713SK</td>\n",
       "      <td>24.0</td>\n",
       "      <td>229.0</td>\n",
       "      <td>231.0</td>\n",
       "      <td>ASE</td>\n",
       "      <td>DEN</td>\n",
       "      <td>125</td>\n",
       "    </tr>\n",
       "    <tr>\n",
       "      <th>1816289</th>\n",
       "      <td>UA</td>\n",
       "      <td>688</td>\n",
       "      <td>N853UA</td>\n",
       "      <td>107.0</td>\n",
       "      <td>149.0</td>\n",
       "      <td>133.0</td>\n",
       "      <td>ORD</td>\n",
       "      <td>LGA</td>\n",
       "      <td>733</td>\n",
       "    </tr>\n",
       "  </tbody>\n",
       "</table>\n",
       "<p>200000 rows × 9 columns</p>\n",
       "</div>"
      ],
      "text/plain": [
       "        UniqueCarrier  FlightNum TailNum  AirTime  ArrDelay  DepDelay Origin  \\\n",
       "1779631            XE       2732  N12157    118.0       4.0       7.0    IAH   \n",
       "1687634            EV       5383  N752EV    113.0      82.0      82.0    ATL   \n",
       "437541             OO       3993  N426SW     72.0      39.0      44.0    DEN   \n",
       "1344899            WN       2012  N908WN    139.0      -4.0       7.0    BUF   \n",
       "1398424            AA       1768  N237AA     92.0       6.0      28.0    ORD   \n",
       "...               ...        ...     ...      ...       ...       ...    ...   \n",
       "1486901            FL        787  N935AT    128.0      79.0      31.0    ATL   \n",
       "128802             MQ       4561  N717AE    136.0      36.0      44.0    RDU   \n",
       "1073960            CO        648  N12216    348.0      51.0      74.0    EWR   \n",
       "1808100            OO       6620  N713SK     24.0     229.0     231.0    ASE   \n",
       "1816289            UA        688  N853UA    107.0     149.0     133.0    ORD   \n",
       "\n",
       "        Dest  Distance  \n",
       "1779631  CLT       913  \n",
       "1687634  OKC       761  \n",
       "437541   SLC       391  \n",
       "1344899  TPA      1054  \n",
       "1398424  PHL       678  \n",
       "...      ...       ...  \n",
       "1486901  PHL       665  \n",
       "128802   XNA       868  \n",
       "1073960  SFO      2565  \n",
       "1808100  DEN       125  \n",
       "1816289  LGA       733  \n",
       "\n",
       "[200000 rows x 9 columns]"
      ]
     },
     "execution_count": 67,
     "metadata": {},
     "output_type": "execute_result"
    }
   ],
   "source": [
    "avions=avions[['UniqueCarrier','FlightNum', 'TailNum', 'AirTime', 'ArrDelay','DepDelay', 'Origin', 'Dest', 'Distance']]\n",
    "\n",
    "avions"
   ]
  },
  {
   "cell_type": "markdown",
   "id": "aabdf2e9",
   "metadata": {},
   "source": [
    "Se coge un dataframe reducido, solo con aquellas columnas que nos interessan."
   ]
  },
  {
   "cell_type": "code",
   "execution_count": 68,
   "id": "f53ab0d2",
   "metadata": {},
   "outputs": [
    {
     "name": "stdout",
     "output_type": "stream",
     "text": [
      "<class 'pandas.core.frame.DataFrame'>\n",
      "Index: 200000 entries, 1779631 to 1816289\n",
      "Data columns (total 9 columns):\n",
      " #   Column         Non-Null Count   Dtype  \n",
      "---  ------         --------------   -----  \n",
      " 0   UniqueCarrier  200000 non-null  object \n",
      " 1   FlightNum      200000 non-null  int64  \n",
      " 2   TailNum        200000 non-null  object \n",
      " 3   AirTime        200000 non-null  float64\n",
      " 4   ArrDelay       200000 non-null  float64\n",
      " 5   DepDelay       200000 non-null  float64\n",
      " 6   Origin         200000 non-null  object \n",
      " 7   Dest           200000 non-null  object \n",
      " 8   Distance       200000 non-null  int64  \n",
      "dtypes: float64(3), int64(2), object(4)\n",
      "memory usage: 15.3+ MB\n"
     ]
    }
   ],
   "source": [
    "#Resumen de los datos\n",
    "avions.info()"
   ]
  },
  {
   "cell_type": "markdown",
   "id": "324d03c0",
   "metadata": {},
   "source": [
    "Vemos el tipo de variables del dataset, valores sin registros nulos."
   ]
  },
  {
   "cell_type": "markdown",
   "id": "6eda1029",
   "metadata": {},
   "source": [
    "### Exercici 2\n",
    "- Fes un informe complet del dataset:\n",
    "\n",
    "Resumeix estadísticament el dataset i les columnes d’interès. Fes una anàlisi estadístic del que consideris rellevant.\n",
    "Troba quantes dades faltants hi ha per columna.\n",
    "Crea columnes noves (velocitat mitjana del vol, si ha arribat tard o no...).\n",
    "Fes una taula de les aerolínies amb més endarreriments acumulats.\n",
    "Quins són els vols més llargs? I els més endarrerits? Busca les rutes més llargues i les que acumulen més retards.\n",
    "Aporta allò que consideris rellevant."
   ]
  },
  {
   "cell_type": "code",
   "execution_count": 70,
   "id": "9932efed",
   "metadata": {},
   "outputs": [
    {
     "data": {
      "text/html": [
       "<div>\n",
       "<style scoped>\n",
       "    .dataframe tbody tr th:only-of-type {\n",
       "        vertical-align: middle;\n",
       "    }\n",
       "\n",
       "    .dataframe tbody tr th {\n",
       "        vertical-align: top;\n",
       "    }\n",
       "\n",
       "    .dataframe thead th {\n",
       "        text-align: right;\n",
       "    }\n",
       "</style>\n",
       "<table border=\"1\" class=\"dataframe\">\n",
       "  <thead>\n",
       "    <tr style=\"text-align: right;\">\n",
       "      <th></th>\n",
       "      <th>Distance</th>\n",
       "      <th>AirTime</th>\n",
       "      <th>ArrDelay</th>\n",
       "      <th>DepDelay</th>\n",
       "    </tr>\n",
       "  </thead>\n",
       "  <tbody>\n",
       "    <tr>\n",
       "      <th>count</th>\n",
       "      <td>200000.00</td>\n",
       "      <td>200000.00</td>\n",
       "      <td>200000.00</td>\n",
       "      <td>200000.00</td>\n",
       "    </tr>\n",
       "    <tr>\n",
       "      <th>mean</th>\n",
       "      <td>765.01</td>\n",
       "      <td>108.28</td>\n",
       "      <td>42.32</td>\n",
       "      <td>43.18</td>\n",
       "    </tr>\n",
       "    <tr>\n",
       "      <th>std</th>\n",
       "      <td>573.85</td>\n",
       "      <td>68.59</td>\n",
       "      <td>56.95</td>\n",
       "      <td>53.46</td>\n",
       "    </tr>\n",
       "    <tr>\n",
       "      <th>min</th>\n",
       "      <td>31.00</td>\n",
       "      <td>2.00</td>\n",
       "      <td>-66.00</td>\n",
       "      <td>6.00</td>\n",
       "    </tr>\n",
       "    <tr>\n",
       "      <th>25%</th>\n",
       "      <td>338.00</td>\n",
       "      <td>58.00</td>\n",
       "      <td>9.00</td>\n",
       "      <td>12.00</td>\n",
       "    </tr>\n",
       "    <tr>\n",
       "      <th>50%</th>\n",
       "      <td>606.00</td>\n",
       "      <td>90.00</td>\n",
       "      <td>24.00</td>\n",
       "      <td>24.00</td>\n",
       "    </tr>\n",
       "    <tr>\n",
       "      <th>75%</th>\n",
       "      <td>998.00</td>\n",
       "      <td>137.00</td>\n",
       "      <td>56.00</td>\n",
       "      <td>53.00</td>\n",
       "    </tr>\n",
       "    <tr>\n",
       "      <th>max</th>\n",
       "      <td>4962.00</td>\n",
       "      <td>634.00</td>\n",
       "      <td>1707.00</td>\n",
       "      <td>1710.00</td>\n",
       "    </tr>\n",
       "  </tbody>\n",
       "</table>\n",
       "</div>"
      ],
      "text/plain": [
       "        Distance    AirTime   ArrDelay   DepDelay\n",
       "count  200000.00  200000.00  200000.00  200000.00\n",
       "mean      765.01     108.28      42.32      43.18\n",
       "std       573.85      68.59      56.95      53.46\n",
       "min        31.00       2.00     -66.00       6.00\n",
       "25%       338.00      58.00       9.00      12.00\n",
       "50%       606.00      90.00      24.00      24.00\n",
       "75%       998.00     137.00      56.00      53.00\n",
       "max      4962.00     634.00    1707.00    1710.00"
      ]
     },
     "execution_count": 70,
     "metadata": {},
     "output_type": "execute_result"
    }
   ],
   "source": [
    "avions_analisis= avions[['Distance','AirTime','ArrDelay', 'DepDelay' ]]\n",
    "resumen = round(avions_analisis.describe(),2)\n",
    "resumen"
   ]
  },
  {
   "cell_type": "markdown",
   "id": "d5732eb1",
   "metadata": {},
   "source": [
    "En el cuadro aparece el resumen estadístico de las variables numéricas que nos interesa observar. En este caso,  la distancia, el tiempo de vuelo y el tiempo de los aviones retrasados tanto de llegada como de salida.\n",
    "Se observa como la distancia media es 765 millas.\n",
    "El tiempo de vuelo tiene una mediana de 108 minutos y la distancia de 765 millas.\n",
    "En relación a las medias de las salidas y las llegadas, son muy parecidas entre 42 y 43 min. Por lo que los vuelos tienden a salir tarde y llegar tarde. Si tenemos en cuenta las medias, podemos hacer la hipotesis de que no acortan en tiempo de vuelo el retraso de la salida."
   ]
  },
  {
   "cell_type": "markdown",
   "id": "6c70f1d4",
   "metadata": {},
   "source": [
    "-  Troba quantes dades faltants hi ha per columna."
   ]
  },
  {
   "cell_type": "code",
   "execution_count": 71,
   "id": "c21b40cd",
   "metadata": {},
   "outputs": [
    {
     "name": "stdout",
     "output_type": "stream",
     "text": [
      "UniqueCarrier    0\n",
      "FlightNum        0\n",
      "TailNum          0\n",
      "AirTime          0\n",
      "ArrDelay         0\n",
      "DepDelay         0\n",
      "Origin           0\n",
      "Dest             0\n",
      "Distance         0\n",
      "dtype: int64\n"
     ]
    }
   ],
   "source": [
    "valors_nuls_por_columna = avions.isna().sum()\n",
    "\n",
    "print(valors_nuls_por_columna)"
   ]
  },
  {
   "cell_type": "markdown",
   "id": "1ce5e266",
   "metadata": {},
   "source": [
    "No quedan datos nulos en el dataframe con el que estamos trabajando."
   ]
  },
  {
   "cell_type": "markdown",
   "id": "e0deddc9",
   "metadata": {},
   "source": [
    "#### - Crea columnes noves (velocitat mitjana del vol, si ha arribat tard o no...). "
   ]
  },
  {
   "cell_type": "code",
   "execution_count": 30,
   "id": "63b6b9e6",
   "metadata": {
    "scrolled": true
   },
   "outputs": [
    {
     "data": {
      "text/html": [
       "<div>\n",
       "<style scoped>\n",
       "    .dataframe tbody tr th:only-of-type {\n",
       "        vertical-align: middle;\n",
       "    }\n",
       "\n",
       "    .dataframe tbody tr th {\n",
       "        vertical-align: top;\n",
       "    }\n",
       "\n",
       "    .dataframe thead th {\n",
       "        text-align: right;\n",
       "    }\n",
       "</style>\n",
       "<table border=\"1\" class=\"dataframe\">\n",
       "  <thead>\n",
       "    <tr style=\"text-align: right;\">\n",
       "      <th></th>\n",
       "      <th>Distance</th>\n",
       "      <th>MedSpeed</th>\n",
       "    </tr>\n",
       "  </thead>\n",
       "  <tbody>\n",
       "    <tr>\n",
       "      <th>1482252</th>\n",
       "      <td>239</td>\n",
       "      <td>132.35</td>\n",
       "    </tr>\n",
       "    <tr>\n",
       "      <th>1843610</th>\n",
       "      <td>1968</td>\n",
       "      <td>1089.84</td>\n",
       "    </tr>\n",
       "    <tr>\n",
       "      <th>232708</th>\n",
       "      <td>441</td>\n",
       "      <td>244.22</td>\n",
       "    </tr>\n",
       "    <tr>\n",
       "      <th>110171</th>\n",
       "      <td>1199</td>\n",
       "      <td>663.98</td>\n",
       "    </tr>\n",
       "    <tr>\n",
       "      <th>420077</th>\n",
       "      <td>657</td>\n",
       "      <td>363.83</td>\n",
       "    </tr>\n",
       "    <tr>\n",
       "      <th>...</th>\n",
       "      <td>...</td>\n",
       "      <td>...</td>\n",
       "    </tr>\n",
       "    <tr>\n",
       "      <th>1495252</th>\n",
       "      <td>865</td>\n",
       "      <td>479.02</td>\n",
       "    </tr>\n",
       "    <tr>\n",
       "      <th>425106</th>\n",
       "      <td>1297</td>\n",
       "      <td>718.25</td>\n",
       "    </tr>\n",
       "    <tr>\n",
       "      <th>1884546</th>\n",
       "      <td>487</td>\n",
       "      <td>269.69</td>\n",
       "    </tr>\n",
       "    <tr>\n",
       "      <th>447242</th>\n",
       "      <td>626</td>\n",
       "      <td>346.67</td>\n",
       "    </tr>\n",
       "    <tr>\n",
       "      <th>1353107</th>\n",
       "      <td>134</td>\n",
       "      <td>74.21</td>\n",
       "    </tr>\n",
       "  </tbody>\n",
       "</table>\n",
       "<p>200000 rows × 2 columns</p>\n",
       "</div>"
      ],
      "text/plain": [
       "         Distance  MedSpeed\n",
       "1482252       239    132.35\n",
       "1843610      1968   1089.84\n",
       "232708        441    244.22\n",
       "110171       1199    663.98\n",
       "420077        657    363.83\n",
       "...           ...       ...\n",
       "1495252       865    479.02\n",
       "425106       1297    718.25\n",
       "1884546       487    269.69\n",
       "447242        626    346.67\n",
       "1353107       134     74.21\n",
       "\n",
       "[200000 rows x 2 columns]"
      ]
     },
     "execution_count": 30,
     "metadata": {},
     "output_type": "execute_result"
    }
   ],
   "source": [
    "#Calculo de la velocitat mitjana\n",
    "avions['MedSpeed']=round(avions['Distance']/round(avions['AirTime']/60,3).mean(),2)\n",
    "avions[['Distance','MedSpeed']]"
   ]
  },
  {
   "cell_type": "markdown",
   "id": "209328f3",
   "metadata": {},
   "source": [
    "La velocidad está en milles per hora. Aquí el AirTime en minuts.\n",
    "En esta tabla se muestra el número de vuelo, la distancia en millas y la media de millas por hora.\n",
    "Se crea una nueva columna que se llama MedSpeed para la distancia media de los aviones."
   ]
  },
  {
   "cell_type": "code",
   "execution_count": 31,
   "id": "c0e9d373",
   "metadata": {},
   "outputs": [
    {
     "data": {
      "text/html": [
       "<div>\n",
       "<style scoped>\n",
       "    .dataframe tbody tr th:only-of-type {\n",
       "        vertical-align: middle;\n",
       "    }\n",
       "\n",
       "    .dataframe tbody tr th {\n",
       "        vertical-align: top;\n",
       "    }\n",
       "\n",
       "    .dataframe thead th {\n",
       "        text-align: right;\n",
       "    }\n",
       "</style>\n",
       "<table border=\"1\" class=\"dataframe\">\n",
       "  <thead>\n",
       "    <tr style=\"text-align: right;\">\n",
       "      <th></th>\n",
       "      <th>ArrDelay</th>\n",
       "      <th>Delay</th>\n",
       "    </tr>\n",
       "  </thead>\n",
       "  <tbody>\n",
       "    <tr>\n",
       "      <th>1482252</th>\n",
       "      <td>20.0</td>\n",
       "      <td>Delayed</td>\n",
       "    </tr>\n",
       "    <tr>\n",
       "      <th>1843610</th>\n",
       "      <td>161.0</td>\n",
       "      <td>Delayed</td>\n",
       "    </tr>\n",
       "    <tr>\n",
       "      <th>232708</th>\n",
       "      <td>87.0</td>\n",
       "      <td>Delayed</td>\n",
       "    </tr>\n",
       "    <tr>\n",
       "      <th>110171</th>\n",
       "      <td>4.0</td>\n",
       "      <td>OnTime</td>\n",
       "    </tr>\n",
       "    <tr>\n",
       "      <th>420077</th>\n",
       "      <td>160.0</td>\n",
       "      <td>Delayed</td>\n",
       "    </tr>\n",
       "    <tr>\n",
       "      <th>...</th>\n",
       "      <td>...</td>\n",
       "      <td>...</td>\n",
       "    </tr>\n",
       "    <tr>\n",
       "      <th>1495252</th>\n",
       "      <td>10.0</td>\n",
       "      <td>OnTime</td>\n",
       "    </tr>\n",
       "    <tr>\n",
       "      <th>425106</th>\n",
       "      <td>11.0</td>\n",
       "      <td>OnTime</td>\n",
       "    </tr>\n",
       "    <tr>\n",
       "      <th>1884546</th>\n",
       "      <td>48.0</td>\n",
       "      <td>Delayed</td>\n",
       "    </tr>\n",
       "    <tr>\n",
       "      <th>447242</th>\n",
       "      <td>22.0</td>\n",
       "      <td>Delayed</td>\n",
       "    </tr>\n",
       "    <tr>\n",
       "      <th>1353107</th>\n",
       "      <td>5.0</td>\n",
       "      <td>OnTime</td>\n",
       "    </tr>\n",
       "  </tbody>\n",
       "</table>\n",
       "<p>200000 rows × 2 columns</p>\n",
       "</div>"
      ],
      "text/plain": [
       "         ArrDelay    Delay\n",
       "1482252      20.0  Delayed\n",
       "1843610     161.0  Delayed\n",
       "232708       87.0  Delayed\n",
       "110171        4.0   OnTime\n",
       "420077      160.0  Delayed\n",
       "...           ...      ...\n",
       "1495252      10.0   OnTime\n",
       "425106       11.0   OnTime\n",
       "1884546      48.0  Delayed\n",
       "447242       22.0  Delayed\n",
       "1353107       5.0   OnTime\n",
       "\n",
       "[200000 rows x 2 columns]"
      ]
     },
     "execution_count": 31,
     "metadata": {},
     "output_type": "execute_result"
    }
   ],
   "source": [
    "#numpy.where(condició, valor_si_vertader, valor_si_fals)\n",
    "avions['ArrDelay'].sort_values(ascending=False)\n",
    "avions['Delay']=np.where(avions['ArrDelay']>15,'Delayed','OnTime')\n",
    "avions[['ArrDelay','Delay']]\n"
   ]
  },
  {
   "cell_type": "markdown",
   "id": "b3a4fc38",
   "metadata": {},
   "source": [
    "Se crea una columna nueva llamada Delay. Para saber si ha llegado tarde o no un vuelo se crea una columna de tipo object. Para mostrar los strings \"Delayed\" o \"OnTime\". Se debe tener en cuenta que solo si ha llegado más de 15 minutos tarde se considera que un vuelo se ha retrasado. Por lo que se creará una columna nueva donde conste si el vuelo se ha retrasado o no. Luego se puede ver en la tabla, si se observa la columna de ArrDelay junto con la de Delay. Funciona correctamente."
   ]
  },
  {
   "cell_type": "markdown",
   "id": "0a561148",
   "metadata": {},
   "source": [
    "  #### - Fes una taula de les aerolínies amb més endarreriments acumulats."
   ]
  },
  {
   "cell_type": "code",
   "execution_count": 94,
   "id": "3ca9ce06",
   "metadata": {},
   "outputs": [
    {
     "data": {
      "text/plain": [
       "UniqueCarrier\n",
       "WN    1175966.0\n",
       "AA     912033.0\n",
       "UA     700874.0\n",
       "MQ     669924.0\n",
       "OO     604393.0\n",
       "XE     547749.0\n",
       "DL     470924.0\n",
       "CO     432045.0\n",
       "EV     398999.0\n",
       "YV     382814.0\n",
       "US     369544.0\n",
       "NW     369434.0\n",
       "FL     317884.0\n",
       "B6     316373.0\n",
       "OH     280797.0\n",
       "9E     251633.0\n",
       "AS     150257.0\n",
       "F9      84426.0\n",
       "HA      26072.0\n",
       "AQ       1045.0\n",
       "Name: ArrDelay, dtype: float64"
      ]
     },
     "execution_count": 94,
     "metadata": {},
     "output_type": "execute_result"
    }
   ],
   "source": [
    "avions.groupby(['UniqueCarrier'])['ArrDelay'].sum().sort_values(ascending=False)"
   ]
  },
  {
   "cell_type": "markdown",
   "id": "d25ede96",
   "metadata": {},
   "source": [
    "Aquí se crea una tabla nueva con aquellas aerolíneas que acumulan más retrasos. Se calcula la suma del retraso de llegada para cada aerolínea.\n",
    "Primero se agrupan las aerolínias según el retraso de llegada de vuelos. Y se ordenan de manera descendente. Por lo que la primera aerolínea que aparece serà la que tiene el mayor retraso en minutos acumulados por cada vuelo realizado."
   ]
  },
  {
   "cell_type": "markdown",
   "id": "8c6b2877",
   "metadata": {},
   "source": [
    "#### - Quins són els vols més llargs? I els més endarrerits? Busca les rutes més llargues i les que acumulen més retards. Aporta allò que consideris rellevant."
   ]
  },
  {
   "cell_type": "code",
   "execution_count": 72,
   "id": "370c1798",
   "metadata": {},
   "outputs": [
    {
     "data": {
      "text/plain": [
       "FlightNum  Origin  Dest\n",
       "15         EWR     HNL     604.0\n",
       "851        ATL     HNL     558.0\n",
       "1273       ATL     HNL     554.0\n",
       "14         HNL     EWR     542.0\n",
       "1561       ATL     HNL     540.0\n",
       "                           ...  \n",
       "6277       CVG     LEX      12.0\n",
       "5086       CVG     LEX      11.0\n",
       "2800       MKE     GRB      11.0\n",
       "5171       RSW     MIA       4.0\n",
       "3703       SLC     SUN       2.0\n",
       "Name: AirTime, Length: 56372, dtype: float64"
      ]
     },
     "execution_count": 72,
     "metadata": {},
     "output_type": "execute_result"
    }
   ],
   "source": [
    "#vols més llargs\n",
    "\n",
    "round(avions.groupby(['FlightNum','Origin','Dest'])['AirTime'].mean()).sort_values(ascending=False)"
   ]
  },
  {
   "cell_type": "markdown",
   "id": "71229950",
   "metadata": {},
   "source": [
    "Para saber los vuelos más largos se tiene en cuenta la media del tiempo que el vuelo ha estado en el aire. Luego ordenamos los vuelos de forma descendente para observar cuales fueron los que estuvieron de media más tiempo en el aire, y vemos el origen y el destino."
   ]
  },
  {
   "cell_type": "code",
   "execution_count": 98,
   "id": "d89cb2f1",
   "metadata": {},
   "outputs": [
    {
     "data": {
      "text/plain": [
       "FlightNum  Origin  Dest\n",
       "14         HNL     EWR     4962.0\n",
       "15         EWR     HNL     4962.0\n",
       "1560       HNL     ATL     4502.0\n",
       "851        ATL     HNL     4502.0\n",
       "850        HNL     ATL     4502.0\n",
       "                            ...  \n",
       "71         JNU     GST       41.0\n",
       "77         GST     JNU       41.0\n",
       "5431       SNA     LAX       36.0\n",
       "64         PSG     WRG       31.0\n",
       "65         WRG     PSG       31.0\n",
       "Name: Distance, Length: 56372, dtype: float64"
      ]
     },
     "execution_count": 98,
     "metadata": {},
     "output_type": "execute_result"
    }
   ],
   "source": [
    "#las rutas más largas\n",
    "\n",
    "round(avions.groupby(['FlightNum','Origin','Dest'])['Distance'].mean()).sort_values(ascending=False)\n"
   ]
  },
  {
   "cell_type": "markdown",
   "id": "12412b2f",
   "metadata": {},
   "source": [
    "Miramos las rutas más largas teniendo en cuenta la media de la distancia de vuelo. Luego ordenamos los vuelos de forma descendente para observar cuales fueron los que realizaron de media la ruta más larga,además de su origen y su destino."
   ]
  },
  {
   "cell_type": "code",
   "execution_count": 99,
   "id": "03221542",
   "metadata": {},
   "outputs": [
    {
     "data": {
      "text/plain": [
       "FlightNum  Origin  Dest\n",
       "534        TPA     EWR     3340.0\n",
       "1555       MIA     SJU     3126.0\n",
       "7230       ORD     CAE     2813.0\n",
       "1076       RIC     JFK     2679.0\n",
       "2994       CLT     EWR     2528.0\n",
       "                            ...  \n",
       "27         PHL     STL      -69.0\n",
       "504        STT     JFK      -72.0\n",
       "1981       PHX     PVD      -73.0\n",
       "483        SNA     OGG      -85.0\n",
       "467        SMF     OGG      -85.0\n",
       "Name: ArrDelay, Length: 56372, dtype: float64"
      ]
     },
     "execution_count": 99,
     "metadata": {},
     "output_type": "execute_result"
    }
   ],
   "source": [
    "#las rutas que acumulan más retrasos\n",
    "\n",
    "round(avions.groupby(['FlightNum','Origin','Dest'])['ArrDelay'].sum(),2).sort_values(ascending=False)\n"
   ]
  },
  {
   "cell_type": "markdown",
   "id": "6777625a",
   "metadata": {},
   "source": [
    "Miramos las rutas que acumulan más retrasos teniendo en cuenta la suma de arrival delay, que seria la columna que nos indica aquellos vuelos que han llegado tarde. Luego ordenamos de manera descendente, para que queden encima los vuelos más retrasados.\n",
    "Vemos que la ruta con más retrasos es la de Tampa a Newark."
   ]
  },
  {
   "cell_type": "markdown",
   "id": "f31cfc11",
   "metadata": {},
   "source": [
    "  ## Exercici 3\n",
    "\n",
    "- Exporta el dataset net i amb les noves columnes a Excel."
   ]
  },
  {
   "cell_type": "code",
   "execution_count": 100,
   "id": "b92d745d",
   "metadata": {},
   "outputs": [],
   "source": [
    "avions.to_excel('Excel_avions.xlsx', index=False)"
   ]
  },
  {
   "cell_type": "code",
   "execution_count": null,
   "id": "f4856a8c",
   "metadata": {},
   "outputs": [],
   "source": []
  }
 ],
 "metadata": {
  "kernelspec": {
   "display_name": "Python 3 (ipykernel)",
   "language": "python",
   "name": "python3"
  },
  "language_info": {
   "codemirror_mode": {
    "name": "ipython",
    "version": 3
   },
   "file_extension": ".py",
   "mimetype": "text/x-python",
   "name": "python",
   "nbconvert_exporter": "python",
   "pygments_lexer": "ipython3",
   "version": "3.11.5"
  }
 },
 "nbformat": 4,
 "nbformat_minor": 5
}
